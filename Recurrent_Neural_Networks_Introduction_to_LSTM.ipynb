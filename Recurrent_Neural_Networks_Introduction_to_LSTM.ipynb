{
  "nbformat": 4,
  "nbformat_minor": 0,
  "metadata": {
    "colab": {
      "name": "Recurrent Neural Networks - Introduction to LSTM.ipynb",
      "provenance": [],
      "include_colab_link": true
    },
    "kernelspec": {
      "name": "python3",
      "display_name": "Python 3"
    },
    "accelerator": "TPU"
  },
  "cells": [
    {
      "cell_type": "markdown",
      "metadata": {
        "id": "view-in-github",
        "colab_type": "text"
      },
      "source": [
        "<a href=\"https://colab.research.google.com/github/debanga/DeepLearningNotebooks/blob/master/Recurrent_Neural_Networks_Introduction_to_LSTM.ipynb\" target=\"_parent\"><img src=\"https://colab.research.google.com/assets/colab-badge.svg\" alt=\"Open In Colab\"/></a>"
      ]
    },
    {
      "cell_type": "code",
      "metadata": {
        "id": "VGm0xBsNQBaP",
        "colab_type": "code",
        "colab": {
          "base_uri": "https://localhost:8080/",
          "height": 34
        },
        "outputId": "065615ec-2e71-40e6-db38-20c249c6ceaf"
      },
      "source": [
        "# Recurrent Neural Networks - LSTM Introduction\n",
        "# Based on \"https://www.kaggle.com/thebrownviking20/intro-to-recurrent-neural-networks-lstm-gru\"\n",
        "import numpy as np\n",
        "import matplotlib.pyplot as plt\n",
        "import pandas as pd\n",
        "import math\n",
        "from sklearn.preprocessing import MinMaxScaler\n",
        "from keras.models import Sequential\n",
        "from keras.layers import Dense, LSTM, Dropout, GRU, Bidirectional\n",
        "from keras.optimizers import SGD\n",
        "from sklearn.metrics import mean_squared_error"
      ],
      "execution_count": 1,
      "outputs": [
        {
          "output_type": "stream",
          "text": [
            "Using TensorFlow backend.\n"
          ],
          "name": "stderr"
        }
      ]
    },
    {
      "cell_type": "code",
      "metadata": {
        "id": "DPr_tfbUSblo",
        "colab_type": "code",
        "colab": {}
      },
      "source": [
        "# Some functions to help out with\n",
        "def plot_predictions(test,predicted):\n",
        "    plt.plot(test, color='red',label='Real IBM Stock Price')\n",
        "    plt.plot(predicted, color='blue',label='Predicted IBM Stock Price')\n",
        "    plt.title('IBM Stock Price Prediction')\n",
        "    plt.xlabel('Time')\n",
        "    plt.ylabel('IBM Stock Price')\n",
        "    plt.legend()\n",
        "    plt.show()\n",
        "\n",
        "def return_rmse(test,predicted):\n",
        "    rmse = math.sqrt(mean_squared_error(test, predicted))\n",
        "    print(\"The root mean squared error is {}.\".format(rmse))"
      ],
      "execution_count": 0,
      "outputs": []
    },
    {
      "cell_type": "code",
      "metadata": {
        "id": "JLEZvhRNShWG",
        "colab_type": "code",
        "outputId": "68bfc371-b836-4ce2-acd6-412438297323",
        "colab": {
          "base_uri": "https://localhost:8080/",
          "height": 225
        }
      },
      "source": [
        "# Get data\n",
        "dataset = pd.read_csv('https://raw.githubusercontent.com/debanga/DeepLearningNotebooks/master/data/IBM_2006-01-01_to_2018-01-01.csv', index_col='Date', parse_dates=['Date'])\n",
        "dataset.head()"
      ],
      "execution_count": 3,
      "outputs": [
        {
          "output_type": "execute_result",
          "data": {
            "text/html": [
              "<div>\n",
              "<style scoped>\n",
              "    .dataframe tbody tr th:only-of-type {\n",
              "        vertical-align: middle;\n",
              "    }\n",
              "\n",
              "    .dataframe tbody tr th {\n",
              "        vertical-align: top;\n",
              "    }\n",
              "\n",
              "    .dataframe thead th {\n",
              "        text-align: right;\n",
              "    }\n",
              "</style>\n",
              "<table border=\"1\" class=\"dataframe\">\n",
              "  <thead>\n",
              "    <tr style=\"text-align: right;\">\n",
              "      <th></th>\n",
              "      <th>Open</th>\n",
              "      <th>High</th>\n",
              "      <th>Low</th>\n",
              "      <th>Close</th>\n",
              "      <th>Volume</th>\n",
              "      <th>Name</th>\n",
              "    </tr>\n",
              "    <tr>\n",
              "      <th>Date</th>\n",
              "      <th></th>\n",
              "      <th></th>\n",
              "      <th></th>\n",
              "      <th></th>\n",
              "      <th></th>\n",
              "      <th></th>\n",
              "    </tr>\n",
              "  </thead>\n",
              "  <tbody>\n",
              "    <tr>\n",
              "      <th>2006-01-03</th>\n",
              "      <td>82.45</td>\n",
              "      <td>82.55</td>\n",
              "      <td>80.81</td>\n",
              "      <td>82.06</td>\n",
              "      <td>11715200</td>\n",
              "      <td>IBM</td>\n",
              "    </tr>\n",
              "    <tr>\n",
              "      <th>2006-01-04</th>\n",
              "      <td>82.20</td>\n",
              "      <td>82.50</td>\n",
              "      <td>81.33</td>\n",
              "      <td>81.95</td>\n",
              "      <td>9840600</td>\n",
              "      <td>IBM</td>\n",
              "    </tr>\n",
              "    <tr>\n",
              "      <th>2006-01-05</th>\n",
              "      <td>81.40</td>\n",
              "      <td>82.90</td>\n",
              "      <td>81.00</td>\n",
              "      <td>82.50</td>\n",
              "      <td>7213500</td>\n",
              "      <td>IBM</td>\n",
              "    </tr>\n",
              "    <tr>\n",
              "      <th>2006-01-06</th>\n",
              "      <td>83.95</td>\n",
              "      <td>85.03</td>\n",
              "      <td>83.41</td>\n",
              "      <td>84.95</td>\n",
              "      <td>8197400</td>\n",
              "      <td>IBM</td>\n",
              "    </tr>\n",
              "    <tr>\n",
              "      <th>2006-01-09</th>\n",
              "      <td>84.10</td>\n",
              "      <td>84.25</td>\n",
              "      <td>83.38</td>\n",
              "      <td>83.73</td>\n",
              "      <td>6858200</td>\n",
              "      <td>IBM</td>\n",
              "    </tr>\n",
              "  </tbody>\n",
              "</table>\n",
              "</div>"
            ],
            "text/plain": [
              "             Open   High    Low  Close    Volume Name\n",
              "Date                                                 \n",
              "2006-01-03  82.45  82.55  80.81  82.06  11715200  IBM\n",
              "2006-01-04  82.20  82.50  81.33  81.95   9840600  IBM\n",
              "2006-01-05  81.40  82.90  81.00  82.50   7213500  IBM\n",
              "2006-01-06  83.95  85.03  83.41  84.95   8197400  IBM\n",
              "2006-01-09  84.10  84.25  83.38  83.73   6858200  IBM"
            ]
          },
          "metadata": {
            "tags": []
          },
          "execution_count": 3
        }
      ]
    },
    {
      "cell_type": "code",
      "metadata": {
        "id": "1yRqxQu4V0fE",
        "colab_type": "code",
        "colab": {}
      },
      "source": [
        "# Checking for missing values\n",
        "training_set = dataset[:'2016'].iloc[:,1:2].values\n",
        "test_set = dataset['2017':].iloc[:,1:2].values"
      ],
      "execution_count": 0,
      "outputs": []
    },
    {
      "cell_type": "code",
      "metadata": {
        "id": "0_7AdHKCXBiX",
        "colab_type": "code",
        "colab": {
          "base_uri": "https://localhost:8080/",
          "height": 285
        },
        "outputId": "2440e278-2887-4e82-c87c-6b704cb7a40c"
      },
      "source": [
        "# We have chosen 'High' attribute for prices. Let's see what it looks like\n",
        "dataset[\"High\"][:'2016'].plot(figsize=(16,4),legend=True)\n",
        "dataset[\"High\"]['2017':].plot(figsize=(16,4),legend=True)\n",
        "plt.legend(['Training set (Before 2017)','Test set (2017 and beyond)'])\n",
        "plt.title('IBM stock price')\n",
        "plt.show()"
      ],
      "execution_count": 5,
      "outputs": [
        {
          "output_type": "display_data",
          "data": {
            "image/png": "[encoded data removed]",
            "text/plain": [
              "<Figure size 1152x288 with 1 Axes>"
            ]
          },
          "metadata": {
            "tags": []
          }
        }
      ]
    },
    {
      "cell_type": "code",
      "metadata": {
        "id": "hADuoy39Y1yj",
        "colab_type": "code",
        "colab": {}
      },
      "source": [
        "# Scaling the training set\n",
        "sc = MinMaxScaler(feature_range=(0,1))\n",
        "training_set_scaled = sc.fit_transform(training_set)"
      ],
      "execution_count": 0,
      "outputs": []
    },
    {
      "cell_type": "code",
      "metadata": {
        "id": "TYT3i0mcY-yl",
        "colab_type": "code",
        "colab": {}
      },
      "source": [
        "# Since LSTMs store long term memory state, we create a data structure with 60 timesteps and 1 output\n",
        "# So for each element of training set, we have 60 previous training set elements \n",
        "X_train = []\n",
        "y_train = []\n",
        "for i in range(60,2769):\n",
        "    X_train.append(training_set_scaled[i-60:i,0])\n",
        "    y_train.append(training_set_scaled[i,0])\n",
        "X_train, y_train = np.array(X_train), np.array(y_train)"
      ],
      "execution_count": 0,
      "outputs": []
    },
    {
      "cell_type": "code",
      "metadata": {
        "id": "Qav3dFvgZgs4",
        "colab_type": "code",
        "colab": {}
      },
      "source": [
        "# Reshaping X_train for efficient modelling\n",
        "X_train = np.reshape(X_train, (X_train.shape[0],X_train.shape[1],1))"
      ],
      "execution_count": 0,
      "outputs": []
    },
    {
      "cell_type": "code",
      "metadata": {
        "id": "ka2-BKRxayTM",
        "colab_type": "code",
        "colab": {
          "base_uri": "https://localhost:8080/",
          "height": 230
        },
        "outputId": "2e13c95c-b5b1-498f-ccc6-656729f39003"
      },
      "source": [
        "'''The LSTM architecture '''\n",
        "regressor = Sequential()\n",
        "# First LSTM layer with Dropout regularisation\n",
        "regressor.add(LSTM(units=50, return_sequences=True, input_shape=(X_train.shape[1],1)))\n",
        "regressor.add(Dropout(0.2))\n",
        "# Second LSTM layer\n",
        "regressor.add(LSTM(units=50, return_sequences=True))\n",
        "regressor.add(Dropout(0.2))\n",
        "# Third LSTM layer\n",
        "regressor.add(LSTM(units=50, return_sequences=True))\n",
        "regressor.add(Dropout(0.2))\n",
        "# Fourth LSTM layer\n",
        "regressor.add(LSTM(units=50))\n",
        "regressor.add(Dropout(0.2))\n",
        "# The output layer\n",
        "regressor.add(Dense(units=1))"
      ],
      "execution_count": 9,
      "outputs": [
        {
          "output_type": "stream",
          "text": [
            "WARNING:tensorflow:From /usr/local/lib/python3.6/dist-packages/keras/backend/tensorflow_backend.py:66: The name tf.get_default_graph is deprecated. Please use tf.compat.v1.get_default_graph instead.\n",
            "\n",
            "WARNING:tensorflow:From /usr/local/lib/python3.6/dist-packages/keras/backend/tensorflow_backend.py:541: The name tf.placeholder is deprecated. Please use tf.compat.v1.placeholder instead.\n",
            "\n",
            "WARNING:tensorflow:From /usr/local/lib/python3.6/dist-packages/keras/backend/tensorflow_backend.py:4432: The name tf.random_uniform is deprecated. Please use tf.random.uniform instead.\n",
            "\n",
            "WARNING:tensorflow:From /usr/local/lib/python3.6/dist-packages/keras/backend/tensorflow_backend.py:148: The name tf.placeholder_with_default is deprecated. Please use tf.compat.v1.placeholder_with_default instead.\n",
            "\n",
            "WARNING:tensorflow:From /usr/local/lib/python3.6/dist-packages/keras/backend/tensorflow_backend.py:3733: calling dropout (from tensorflow.python.ops.nn_ops) with keep_prob is deprecated and will be removed in a future version.\n",
            "Instructions for updating:\n",
            "Please use `rate` instead of `keep_prob`. Rate should be set to `rate = 1 - keep_prob`.\n"
          ],
          "name": "stdout"
        }
      ]
    },
    {
      "cell_type": "code",
      "metadata": {
        "id": "SIN2rRjYbMMS",
        "colab_type": "code",
        "colab": {
          "base_uri": "https://localhost:8080/",
          "height": 474
        },
        "outputId": "55a8e395-0fec-4301-b015-d0f039e214ba"
      },
      "source": [
        "regressor.summary()"
      ],
      "execution_count": 10,
      "outputs": [
        {
          "output_type": "stream",
          "text": [
            "Model: \"sequential_1\"\n",
            "_________________________________________________________________\n",
            "Layer (type)                 Output Shape              Param #   \n",
            "=================================================================\n",
            "lstm_1 (LSTM)                (None, 60, 50)            10400     \n",
            "_________________________________________________________________\n",
            "dropout_1 (Dropout)          (None, 60, 50)            0         \n",
            "_________________________________________________________________\n",
            "lstm_2 (LSTM)                (None, 60, 50)            20200     \n",
            "_________________________________________________________________\n",
            "dropout_2 (Dropout)          (None, 60, 50)            0         \n",
            "_________________________________________________________________\n",
            "lstm_3 (LSTM)                (None, 60, 50)            20200     \n",
            "_________________________________________________________________\n",
            "dropout_3 (Dropout)          (None, 60, 50)            0         \n",
            "_________________________________________________________________\n",
            "lstm_4 (LSTM)                (None, 50)                20200     \n",
            "_________________________________________________________________\n",
            "dropout_4 (Dropout)          (None, 50)                0         \n",
            "_________________________________________________________________\n",
            "dense_1 (Dense)              (None, 1)                 51        \n",
            "=================================================================\n",
            "Total params: 71,051\n",
            "Trainable params: 71,051\n",
            "Non-trainable params: 0\n",
            "_________________________________________________________________\n"
          ],
          "name": "stdout"
        }
      ]
    },
    {
      "cell_type": "code",
      "metadata": {
        "id": "o0iHZ841b_Dm",
        "colab_type": "code",
        "colab": {
          "base_uri": "https://localhost:8080/",
          "height": 1000
        },
        "outputId": "dfe31ea2-dab6-4aef-e753-8d56edbb8d89"
      },
      "source": [
        "# Compiling the RNN\n",
        "regressor.compile(optimizer='rmsprop',loss='mean_squared_error')\n",
        "# Fitting to the training set\n",
        "regressor.fit(X_train,y_train,epochs=50,batch_size=32)"
      ],
      "execution_count": 11,
      "outputs": [
        {
          "output_type": "stream",
          "text": [
            "WARNING:tensorflow:From /usr/local/lib/python3.6/dist-packages/keras/optimizers.py:793: The name tf.train.Optimizer is deprecated. Please use tf.compat.v1.train.Optimizer instead.\n",
            "\n",
            "WARNING:tensorflow:From /usr/local/lib/python3.6/dist-packages/tensorflow_core/python/ops/math_grad.py:1424: where (from tensorflow.python.ops.array_ops) is deprecated and will be removed in a future version.\n",
            "Instructions for updating:\n",
            "Use tf.where in 2.0, which has the same broadcast rule as np.where\n",
            "WARNING:tensorflow:From /usr/local/lib/python3.6/dist-packages/keras/backend/tensorflow_backend.py:1033: The name tf.assign_add is deprecated. Please use tf.compat.v1.assign_add instead.\n",
            "\n",
            "WARNING:tensorflow:From /usr/local/lib/python3.6/dist-packages/keras/backend/tensorflow_backend.py:1020: The name tf.assign is deprecated. Please use tf.compat.v1.assign instead.\n",
            "\n",
            "WARNING:tensorflow:From /usr/local/lib/python3.6/dist-packages/keras/backend/tensorflow_backend.py:3005: The name tf.Session is deprecated. Please use tf.compat.v1.Session instead.\n",
            "\n",
            "Epoch 1/50\n",
            "WARNING:tensorflow:From /usr/local/lib/python3.6/dist-packages/keras/backend/tensorflow_backend.py:190: The name tf.get_default_session is deprecated. Please use tf.compat.v1.get_default_session instead.\n",
            "\n",
            "WARNING:tensorflow:From /usr/local/lib/python3.6/dist-packages/keras/backend/tensorflow_backend.py:197: The name tf.ConfigProto is deprecated. Please use tf.compat.v1.ConfigProto instead.\n",
            "\n",
            "WARNING:tensorflow:From /usr/local/lib/python3.6/dist-packages/keras/backend/tensorflow_backend.py:207: The name tf.global_variables is deprecated. Please use tf.compat.v1.global_variables instead.\n",
            "\n",
            "WARNING:tensorflow:From /usr/local/lib/python3.6/dist-packages/keras/backend/tensorflow_backend.py:216: The name tf.is_variable_initialized is deprecated. Please use tf.compat.v1.is_variable_initialized instead.\n",
            "\n",
            "WARNING:tensorflow:From /usr/local/lib/python3.6/dist-packages/keras/backend/tensorflow_backend.py:223: The name tf.variables_initializer is deprecated. Please use tf.compat.v1.variables_initializer instead.\n",
            "\n",
            "2709/2709 [==============================] - 19s 7ms/step - loss: 0.0232\n",
            "Epoch 2/50\n",
            "2709/2709 [==============================] - 15s 6ms/step - loss: 0.0102\n",
            "Epoch 3/50\n",
            "2709/2709 [==============================] - 15s 6ms/step - loss: 0.0076\n",
            "Epoch 4/50\n",
            "2709/2709 [==============================] - 15s 6ms/step - loss: 0.0072\n",
            "Epoch 5/50\n",
            "2709/2709 [==============================] - 16s 6ms/step - loss: 0.0057\n",
            "Epoch 6/50\n",
            "2709/2709 [==============================] - 15s 6ms/step - loss: 0.0052\n",
            "Epoch 7/50\n",
            "2709/2709 [==============================] - 15s 6ms/step - loss: 0.0053\n",
            "Epoch 8/50\n",
            "2709/2709 [==============================] - 16s 6ms/step - loss: 0.0043\n",
            "Epoch 9/50\n",
            "2709/2709 [==============================] - 15s 6ms/step - loss: 0.0041\n",
            "Epoch 10/50\n",
            "2709/2709 [==============================] - 15s 6ms/step - loss: 0.0042\n",
            "Epoch 11/50\n",
            "2709/2709 [==============================] - 15s 6ms/step - loss: 0.0036\n",
            "Epoch 12/50\n",
            "2709/2709 [==============================] - 16s 6ms/step - loss: 0.0036\n",
            "Epoch 13/50\n",
            "2709/2709 [==============================] - 15s 6ms/step - loss: 0.0035\n",
            "Epoch 14/50\n",
            "2709/2709 [==============================] - 15s 6ms/step - loss: 0.0033\n",
            "Epoch 15/50\n",
            "2709/2709 [==============================] - 16s 6ms/step - loss: 0.0031\n",
            "Epoch 16/50\n",
            "2709/2709 [==============================] - 15s 6ms/step - loss: 0.0029\n",
            "Epoch 17/50\n",
            "2709/2709 [==============================] - 16s 6ms/step - loss: 0.0026\n",
            "Epoch 18/50\n",
            "2709/2709 [==============================] - 16s 6ms/step - loss: 0.0027\n",
            "Epoch 19/50\n",
            "2709/2709 [==============================] - 15s 6ms/step - loss: 0.0027\n",
            "Epoch 20/50\n",
            "2709/2709 [==============================] - 16s 6ms/step - loss: 0.0025\n",
            "Epoch 21/50\n",
            "2709/2709 [==============================] - 15s 6ms/step - loss: 0.0026\n",
            "Epoch 22/50\n",
            "2709/2709 [==============================] - 16s 6ms/step - loss: 0.0025\n",
            "Epoch 23/50\n",
            "2709/2709 [==============================] - 16s 6ms/step - loss: 0.0023\n",
            "Epoch 24/50\n",
            "2709/2709 [==============================] - 16s 6ms/step - loss: 0.0023\n",
            "Epoch 25/50\n",
            "2709/2709 [==============================] - 15s 6ms/step - loss: 0.0023\n",
            "Epoch 26/50\n",
            "2709/2709 [==============================] - 16s 6ms/step - loss: 0.0021\n",
            "Epoch 27/50\n",
            "2709/2709 [==============================] - 15s 6ms/step - loss: 0.0021\n",
            "Epoch 28/50\n",
            "2709/2709 [==============================] - 15s 6ms/step - loss: 0.0020\n",
            "Epoch 29/50\n",
            "2709/2709 [==============================] - 15s 6ms/step - loss: 0.0020\n",
            "Epoch 30/50\n",
            "2709/2709 [==============================] - 15s 6ms/step - loss: 0.0019\n",
            "Epoch 31/50\n",
            "2709/2709 [==============================] - 15s 6ms/step - loss: 0.0018\n",
            "Epoch 32/50\n",
            "2709/2709 [==============================] - 15s 6ms/step - loss: 0.0020\n",
            "Epoch 33/50\n",
            "2709/2709 [==============================] - 15s 6ms/step - loss: 0.0019\n",
            "Epoch 34/50\n",
            "2709/2709 [==============================] - 15s 6ms/step - loss: 0.0018\n",
            "Epoch 35/50\n",
            "2709/2709 [==============================] - 15s 6ms/step - loss: 0.0018\n",
            "Epoch 36/50\n",
            "2709/2709 [==============================] - 15s 6ms/step - loss: 0.0017\n",
            "Epoch 37/50\n",
            "2709/2709 [==============================] - 15s 6ms/step - loss: 0.0016\n",
            "Epoch 38/50\n",
            "2709/2709 [==============================] - 16s 6ms/step - loss: 0.0017\n",
            "Epoch 39/50\n",
            "2709/2709 [==============================] - 16s 6ms/step - loss: 0.0016\n",
            "Epoch 40/50\n",
            "2709/2709 [==============================] - 15s 6ms/step - loss: 0.0017\n",
            "Epoch 41/50\n",
            "2709/2709 [==============================] - 15s 6ms/step - loss: 0.0016\n",
            "Epoch 42/50\n",
            "2709/2709 [==============================] - 15s 6ms/step - loss: 0.0016\n",
            "Epoch 43/50\n",
            "2709/2709 [==============================] - 15s 6ms/step - loss: 0.0015\n",
            "Epoch 44/50\n",
            "2709/2709 [==============================] - 15s 6ms/step - loss: 0.0015\n",
            "Epoch 45/50\n",
            "2709/2709 [==============================] - 15s 6ms/step - loss: 0.0015\n",
            "Epoch 46/50\n",
            "2709/2709 [==============================] - 16s 6ms/step - loss: 0.0014\n",
            "Epoch 47/50\n",
            "2709/2709 [==============================] - 15s 6ms/step - loss: 0.0014\n",
            "Epoch 48/50\n",
            "2709/2709 [==============================] - 15s 6ms/step - loss: 0.0014\n",
            "Epoch 49/50\n",
            "2709/2709 [==============================] - 15s 6ms/step - loss: 0.0015\n",
            "Epoch 50/50\n",
            "2709/2709 [==============================] - 15s 6ms/step - loss: 0.0014\n"
          ],
          "name": "stdout"
        },
        {
          "output_type": "execute_result",
          "data": {
            "text/plain": [
              "<keras.callbacks.History at 0x7fd52a6552e8>"
            ]
          },
          "metadata": {
            "tags": []
          },
          "execution_count": 11
        }
      ]
    },
    {
      "cell_type": "code",
      "metadata": {
        "id": "nKk53GCDfQqi",
        "colab_type": "code",
        "colab": {}
      },
      "source": [
        "# Now to get the test set ready in a similar way as the training set.\n",
        "# The following has been done so forst 60 entires of test set have 60 previous values which is impossible to get unless we take the whole \n",
        "# 'High' attribute data for processing\n",
        "dataset_total = pd.concat((dataset[\"High\"][:'2016'],dataset[\"High\"]['2017':]),axis=0)\n",
        "inputs = dataset_total[len(dataset_total)-len(test_set) - 60:].values\n",
        "inputs = inputs.reshape(-1,1)\n",
        "inputs  = sc.transform(inputs)"
      ],
      "execution_count": 0,
      "outputs": []
    },
    {
      "cell_type": "code",
      "metadata": {
        "id": "4bi8qXBXfahD",
        "colab_type": "code",
        "colab": {}
      },
      "source": [
        "# Preparing X_test and predicting the prices\n",
        "X_test = []\n",
        "for i in range(60,311):\n",
        "    X_test.append(inputs[i-60:i,0])\n",
        "X_test = np.array(X_test)\n",
        "X_test = np.reshape(X_test, (X_test.shape[0],X_test.shape[1],1))\n",
        "predicted_stock_price = regressor.predict(X_test)\n",
        "predicted_stock_price = sc.inverse_transform(predicted_stock_price)"
      ],
      "execution_count": 0,
      "outputs": []
    },
    {
      "cell_type": "code",
      "metadata": {
        "id": "wLY_6kAQhDsR",
        "colab_type": "code",
        "colab": {
          "base_uri": "https://localhost:8080/",
          "height": 295
        },
        "outputId": "21e67895-f7fa-47c7-b49a-784d91c999b2"
      },
      "source": [
        "# Visualizing the results for LSTM\n",
        "plot_predictions(test_set,predicted_stock_price)"
      ],
      "execution_count": 14,
      "outputs": [
        {
          "output_type": "display_data",
          "data": {
            "image/png": "[encoded data removed]",
            "text/plain": [
              "<Figure size 432x288 with 1 Axes>"
            ]
          },
          "metadata": {
            "tags": []
          }
        }
      ]
    },
    {
      "cell_type": "code",
      "metadata": {
        "id": "9Hlo0fmahWQv",
        "colab_type": "code",
        "colab": {
          "base_uri": "https://localhost:8080/",
          "height": 34
        },
        "outputId": "238f49b1-3ec8-4838-cb8a-af701239b36b"
      },
      "source": [
        "# Evaluating our model\n",
        "return_rmse(test_set,predicted_stock_price)"
      ],
      "execution_count": 15,
      "outputs": [
        {
          "output_type": "stream",
          "text": [
            "The root mean squared error is 3.115896170689254.\n"
          ],
          "name": "stdout"
        }
      ]
    },
    {
      "cell_type": "markdown",
      "metadata": {
        "id": "AG2djbLyiIsu",
        "colab_type": "text"
      },
      "source": [
        "LSTM is not the only kind of unit that has taken the world of Deep Learning by a storm. We have Gated Recurrent Units(GRU). It's not known, which is better: GRU or LSTM becuase they have comparable performances. GRUs are easier to train than LSTMs.\n",
        "\n",
        "Gated Recurrent Units\n",
        "In simple words, the GRU unit does not have to use a memory unit to control the flow of information like the LSTM unit. It can directly makes use of the all hidden states without any control. GRUs have fewer parameters and thus may train a bit faster or need less data to generalize. But, with large data, the LSTMs with higher expressiveness may lead to better results.\n",
        "\n",
        "They are almost similar to LSTMs except that they have two gates: reset gate and update gate. Reset gate determines how to combine new input to previous memory and update gate determines how much of the previous state to keep. Update gate in GRU is what input gate and forget gate were in LSTM. We don't have the second non linearity in GRU before calculating the outpu, .neither they have the output gate.\n",
        "\n",
        "Source: Quora"
      ]
    },
    {
      "cell_type": "code",
      "metadata": {
        "id": "zOMYaZtiiLml",
        "colab_type": "code",
        "colab": {
          "base_uri": "https://localhost:8080/",
          "height": 1000
        },
        "outputId": "7f13d6aa-5f57-4727-ce2f-ec21ca78dae9"
      },
      "source": [
        "# The GRU architecture\n",
        "regressorGRU = Sequential()\n",
        "# First GRU layer with Dropout regularisation\n",
        "regressorGRU.add(GRU(units=50, return_sequences=True, input_shape=(X_train.shape[1],1), activation='tanh'))\n",
        "regressorGRU.add(Dropout(0.2))\n",
        "# Second GRU layer\n",
        "regressorGRU.add(GRU(units=50, return_sequences=True, input_shape=(X_train.shape[1],1), activation='tanh'))\n",
        "regressorGRU.add(Dropout(0.2))\n",
        "# Third GRU layer\n",
        "regressorGRU.add(GRU(units=50, return_sequences=True, input_shape=(X_train.shape[1],1), activation='tanh'))\n",
        "regressorGRU.add(Dropout(0.2))\n",
        "# Fourth GRU layer\n",
        "regressorGRU.add(GRU(units=50, activation='tanh'))\n",
        "regressorGRU.add(Dropout(0.2))\n",
        "# The output layer\n",
        "regressorGRU.add(Dense(units=1))\n",
        "# Compiling the RNN\n",
        "regressorGRU.compile(optimizer=SGD(lr=0.01, decay=1e-7, momentum=0.9, nesterov=False),loss='mean_squared_error')\n",
        "# Fitting to the training set\n",
        "regressorGRU.fit(X_train,y_train,epochs=50,batch_size=150)"
      ],
      "execution_count": 16,
      "outputs": [
        {
          "output_type": "stream",
          "text": [
            "Epoch 1/50\n",
            "2709/2709 [==============================] - 8s 3ms/step - loss: 0.1169\n",
            "Epoch 2/50\n",
            "2709/2709 [==============================] - 5s 2ms/step - loss: 0.0371\n",
            "Epoch 3/50\n",
            "2709/2709 [==============================] - 5s 2ms/step - loss: 0.0100\n",
            "Epoch 4/50\n",
            "2709/2709 [==============================] - 5s 2ms/step - loss: 0.0052\n",
            "Epoch 5/50\n",
            "2709/2709 [==============================] - 5s 2ms/step - loss: 0.0047\n",
            "Epoch 6/50\n",
            "2709/2709 [==============================] - 5s 2ms/step - loss: 0.0044\n",
            "Epoch 7/50\n",
            "2709/2709 [==============================] - 5s 2ms/step - loss: 0.0038\n",
            "Epoch 8/50\n",
            "2709/2709 [==============================] - 5s 2ms/step - loss: 0.0039\n",
            "Epoch 9/50\n",
            "2709/2709 [==============================] - 5s 2ms/step - loss: 0.0035\n",
            "Epoch 10/50\n",
            "2709/2709 [==============================] - 5s 2ms/step - loss: 0.0034\n",
            "Epoch 11/50\n",
            "2709/2709 [==============================] - 5s 2ms/step - loss: 0.0033\n",
            "Epoch 12/50\n",
            "2709/2709 [==============================] - 5s 2ms/step - loss: 0.0032\n",
            "Epoch 13/50\n",
            "2709/2709 [==============================] - 5s 2ms/step - loss: 0.0032\n",
            "Epoch 14/50\n",
            "2709/2709 [==============================] - 5s 2ms/step - loss: 0.0030\n",
            "Epoch 15/50\n",
            "2709/2709 [==============================] - 5s 2ms/step - loss: 0.0032\n",
            "Epoch 16/50\n",
            "2709/2709 [==============================] - 5s 2ms/step - loss: 0.0031\n",
            "Epoch 17/50\n",
            "2709/2709 [==============================] - 5s 2ms/step - loss: 0.0028\n",
            "Epoch 18/50\n",
            "2709/2709 [==============================] - 5s 2ms/step - loss: 0.0027\n",
            "Epoch 19/50\n",
            "2709/2709 [==============================] - 5s 2ms/step - loss: 0.0026\n",
            "Epoch 20/50\n",
            "2709/2709 [==============================] - 5s 2ms/step - loss: 0.0026\n",
            "Epoch 21/50\n",
            "2709/2709 [==============================] - 5s 2ms/step - loss: 0.0027\n",
            "Epoch 22/50\n",
            "2709/2709 [==============================] - 5s 2ms/step - loss: 0.0026\n",
            "Epoch 23/50\n",
            "2709/2709 [==============================] - 6s 2ms/step - loss: 0.0026\n",
            "Epoch 24/50\n",
            "2709/2709 [==============================] - 5s 2ms/step - loss: 0.0025\n",
            "Epoch 25/50\n",
            "2709/2709 [==============================] - 5s 2ms/step - loss: 0.0024\n",
            "Epoch 26/50\n",
            "2709/2709 [==============================] - 5s 2ms/step - loss: 0.0024\n",
            "Epoch 27/50\n",
            "2709/2709 [==============================] - 5s 2ms/step - loss: 0.0024\n",
            "Epoch 28/50\n",
            "2709/2709 [==============================] - 5s 2ms/step - loss: 0.0023\n",
            "Epoch 29/50\n",
            "2709/2709 [==============================] - 5s 2ms/step - loss: 0.0024\n",
            "Epoch 30/50\n",
            "2709/2709 [==============================] - 5s 2ms/step - loss: 0.0022\n",
            "Epoch 31/50\n",
            "2709/2709 [==============================] - 5s 2ms/step - loss: 0.0021\n",
            "Epoch 32/50\n",
            "2709/2709 [==============================] - 5s 2ms/step - loss: 0.0023\n",
            "Epoch 33/50\n",
            "2709/2709 [==============================] - 5s 2ms/step - loss: 0.0021\n",
            "Epoch 34/50\n",
            "2709/2709 [==============================] - 5s 2ms/step - loss: 0.0022\n",
            "Epoch 35/50\n",
            "2709/2709 [==============================] - 5s 2ms/step - loss: 0.0022\n",
            "Epoch 36/50\n",
            "2709/2709 [==============================] - 5s 2ms/step - loss: 0.0022\n",
            "Epoch 37/50\n",
            "2700/2709 [============================>.] - ETA: 0s - loss: 0.0022Epoch 38/50\n",
            "2709/2709 [==============================] - 5s 2ms/step - loss: 0.0022\n",
            "Epoch 39/50\n",
            "2709/2709 [==============================] - 5s 2ms/step - loss: 0.0023\n",
            "Epoch 40/50\n",
            "2709/2709 [==============================] - 5s 2ms/step - loss: 0.0021\n",
            "Epoch 41/50\n",
            "2709/2709 [==============================] - 5s 2ms/step - loss: 0.0022\n",
            "Epoch 42/50\n",
            "2709/2709 [==============================] - 5s 2ms/step - loss: 0.0021\n",
            "Epoch 43/50\n",
            "2709/2709 [==============================] - 5s 2ms/step - loss: 0.0019\n",
            "Epoch 44/50\n",
            "2709/2709 [==============================] - 5s 2ms/step - loss: 0.0021\n",
            "Epoch 45/50\n",
            "2709/2709 [==============================] - 5s 2ms/step - loss: 0.0021\n",
            "Epoch 46/50\n",
            "2709/2709 [==============================] - 5s 2ms/step - loss: 0.0021\n",
            "Epoch 47/50\n",
            "2709/2709 [==============================] - 5s 2ms/step - loss: 0.0019\n",
            "Epoch 48/50\n",
            "2709/2709 [==============================] - 5s 2ms/step - loss: 0.0020\n",
            "Epoch 49/50\n",
            "2709/2709 [==============================] - 5s 2ms/step - loss: 0.0020\n",
            "Epoch 50/50\n",
            "2709/2709 [==============================] - 5s 2ms/step - loss: 0.0019\n"
          ],
          "name": "stdout"
        },
        {
          "output_type": "execute_result",
          "data": {
            "text/plain": [
              "<keras.callbacks.History at 0x7fd520088198>"
            ]
          },
          "metadata": {
            "tags": []
          },
          "execution_count": 16
        }
      ]
    },
    {
      "cell_type": "code",
      "metadata": {
        "id": "sl1AOkpSoup3",
        "colab_type": "code",
        "colab": {
          "base_uri": "https://localhost:8080/",
          "height": 474
        },
        "outputId": "7e8c1aa4-dbe7-4592-a274-7f1641a07554"
      },
      "source": [
        "regressorGRU.summary()"
      ],
      "execution_count": 25,
      "outputs": [
        {
          "output_type": "stream",
          "text": [
            "Model: \"sequential_2\"\n",
            "_________________________________________________________________\n",
            "Layer (type)                 Output Shape              Param #   \n",
            "=================================================================\n",
            "gru_1 (GRU)                  (None, 60, 50)            7800      \n",
            "_________________________________________________________________\n",
            "dropout_5 (Dropout)          (None, 60, 50)            0         \n",
            "_________________________________________________________________\n",
            "gru_2 (GRU)                  (None, 60, 50)            15150     \n",
            "_________________________________________________________________\n",
            "dropout_6 (Dropout)          (None, 60, 50)            0         \n",
            "_________________________________________________________________\n",
            "gru_3 (GRU)                  (None, 60, 50)            15150     \n",
            "_________________________________________________________________\n",
            "dropout_7 (Dropout)          (None, 60, 50)            0         \n",
            "_________________________________________________________________\n",
            "gru_4 (GRU)                  (None, 50)                15150     \n",
            "_________________________________________________________________\n",
            "dropout_8 (Dropout)          (None, 50)                0         \n",
            "_________________________________________________________________\n",
            "dense_2 (Dense)              (None, 1)                 51        \n",
            "=================================================================\n",
            "Total params: 53,301\n",
            "Trainable params: 53,301\n",
            "Non-trainable params: 0\n",
            "_________________________________________________________________\n"
          ],
          "name": "stdout"
        }
      ]
    },
    {
      "cell_type": "code",
      "metadata": {
        "id": "MGTMhGElkQHB",
        "colab_type": "code",
        "colab": {}
      },
      "source": [
        "# Preparing X_test and predicting the prices\n",
        "X_test = []\n",
        "for i in range(60,311):\n",
        "    X_test.append(inputs[i-60:i,0])\n",
        "X_test = np.array(X_test)\n",
        "X_test = np.reshape(X_test, (X_test.shape[0],X_test.shape[1],1))\n",
        "GRU_predicted_stock_price = regressorGRU.predict(X_test)\n",
        "GRU_predicted_stock_price = sc.inverse_transform(GRU_predicted_stock_price)"
      ],
      "execution_count": 0,
      "outputs": []
    },
    {
      "cell_type": "code",
      "metadata": {
        "id": "EiMxNnTpkVrg",
        "colab_type": "code",
        "colab": {
          "base_uri": "https://localhost:8080/",
          "height": 295
        },
        "outputId": "bffa67d5-2b9a-4e51-fd2c-6dd8fdae3ca5"
      },
      "source": [
        "# Visualizing the results for GRU\n",
        "plot_predictions(test_set,GRU_predicted_stock_price)"
      ],
      "execution_count": 18,
      "outputs": [
        {
          "output_type": "display_data",
          "data": {
            "image/png": "[encoded data removed]",
            "text/plain": [
              "<Figure size 432x288 with 1 Axes>"
            ]
          },
          "metadata": {
            "tags": []
          }
        }
      ]
    },
    {
      "cell_type": "code",
      "metadata": {
        "id": "cuYnDrpMlfIb",
        "colab_type": "code",
        "colab": {
          "base_uri": "https://localhost:8080/",
          "height": 34
        },
        "outputId": "356e5fa6-de12-4b2e-d15e-b4254a4bfc0b"
      },
      "source": [
        "# Evaluating GRU\n",
        "return_rmse(test_set,GRU_predicted_stock_price)"
      ],
      "execution_count": 19,
      "outputs": [
        {
          "output_type": "stream",
          "text": [
            "The root mean squared error is 3.2757979475797616.\n"
          ],
          "name": "stdout"
        }
      ]
    },
    {
      "cell_type": "markdown",
      "metadata": {
        "id": "7O0Er1qCmOIV",
        "colab_type": "text"
      },
      "source": [
        "The above models make use of test set so it is using last 60 true values for predicting the new value(I will call it a benchmark). This is why the error is so low. Strong models can bring similar results like above models for sequences too but they require more than just data which has previous values. In case of stocks, we need to know the sentiments of the market, the movement of other stocks and a lot more. So, don't expect a remotely accurate plot.\n",
        "\n",
        "We will generate a sequence using just initial 60 values instead of using last 60 values for every new prediction"
      ]
    },
    {
      "cell_type": "code",
      "metadata": {
        "id": "eARXqna8mOvy",
        "colab_type": "code",
        "colab": {}
      },
      "source": [
        "# Preparing sequence data\n",
        "initial_sequence = X_train[2708,:]\n",
        "sequence = []\n",
        "for i in range(251):\n",
        "    new_prediction = regressorGRU.predict(initial_sequence.reshape(initial_sequence.shape[1],initial_sequence.shape[0],1))\n",
        "    initial_sequence = initial_sequence[1:]\n",
        "    initial_sequence = np.append(initial_sequence,new_prediction,axis=0)\n",
        "    sequence.append(new_prediction)\n",
        "sequence = sc.inverse_transform(np.array(sequence).reshape(251,1))"
      ],
      "execution_count": 0,
      "outputs": []
    },
    {
      "cell_type": "code",
      "metadata": {
        "id": "t2Wd_Z_OnEWU",
        "colab_type": "code",
        "colab": {
          "base_uri": "https://localhost:8080/",
          "height": 313
        },
        "outputId": "db7cf34b-b5b9-4d50-9626-c04b08e168b6"
      },
      "source": [
        "# Visualizing the sequence\n",
        "plot_predictions(test_set,sequence)\n",
        "# Evaluating the sequence\n",
        "return_rmse(test_set,sequence)"
      ],
      "execution_count": 22,
      "outputs": [
        {
          "output_type": "display_data",
          "data": {
            "image/png": "[encoded data removed]",
            "text/plain": [
              "<Figure size 432x288 with 1 Axes>"
            ]
          },
          "metadata": {
            "tags": []
          }
        },
        {
          "output_type": "stream",
          "text": [
            "The root mean squared error is 14.989234663032562.\n"
          ],
          "name": "stdout"
        }
      ]
    }
  ]
}