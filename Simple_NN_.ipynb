{
  "nbformat": 4,
  "nbformat_minor": 0,
  "metadata": {
    "colab": {
      "name": "Simple NN .ipynb",
      "provenance": [],
      "collapsed_sections": [],
      "include_colab_link": true
    },
    "kernelspec": {
      "name": "python3",
      "display_name": "Python 3"
    }
  },
  "cells": [
    {
      "cell_type": "markdown",
      "metadata": {
        "id": "view-in-github",
        "colab_type": "text"
      },
      "source": [
        "<a href=\"https://colab.research.google.com/github/debanga/DeepLearningNotebooks/blob/master/Simple_NN_.ipynb\" target=\"_parent\"><img src=\"https://colab.research.google.com/assets/colab-badge.svg\" alt=\"Open In Colab\"/></a>"
      ]
    },
    {
      "cell_type": "code",
      "metadata": {
        "id": "MN5mQPtf73Z4",
        "colab_type": "code",
        "colab": {}
      },
      "source": [
        "# Based on the work of https://machinelearningmastery.com/implement-backpropagation-algorithm-scratch-python/"
      ],
      "execution_count": 0,
      "outputs": []
    },
    {
      "cell_type": "code",
      "metadata": {
        "id": "Xb6cezsN_o2z",
        "colab_type": "code",
        "colab": {}
      },
      "source": [
        "import numpy as np\n",
        "import matplotlib.pyplot as plt\n",
        "from random import random\n",
        "from random import seed "
      ],
      "execution_count": 0,
      "outputs": []
    },
    {
      "cell_type": "markdown",
      "metadata": {
        "id": "_4qhyTbx-1Mi",
        "colab_type": "text"
      },
      "source": [
        "Our simple neural network contains an input layer, a hidden layer and finally, an output layer."
      ]
    },
    {
      "cell_type": "code",
      "metadata": {
        "id": "0eUNe35y-5JS",
        "colab_type": "code",
        "colab": {}
      },
      "source": [
        "def initialize_network(n_inputs, n_hidden, n_outputs):\n",
        "    ''' Initialize a simple feed-forward neural network\n",
        "    '''\n",
        "    network = list()\n",
        "\n",
        "    hidden_layer = [{'weights':[random() for i in range(n_inputs + 1)]} for i in range(n_hidden)]\n",
        "    network.append(hidden_layer)\n",
        "    output_layer = [{'weights':[random() for i in range(n_hidden + 1)]} for i in range(n_outputs)]\n",
        "    network.append(output_layer)\n",
        "    return network"
      ],
      "execution_count": 0,
      "outputs": []
    },
    {
      "cell_type": "markdown",
      "metadata": {
        "id": "WPiu6dHHArZI",
        "colab_type": "text"
      },
      "source": [
        "A simple network"
      ]
    },
    {
      "cell_type": "code",
      "metadata": {
        "id": "83sXiY4yAdoH",
        "colab_type": "code",
        "colab": {
          "base_uri": "https://localhost:8080/",
          "height": 52
        },
        "outputId": "a1ac9a9c-37f4-4fd6-b398-7df81e116594"
      },
      "source": [
        "seed(1)\n",
        "network = initialize_network(2, 1, 2)\n",
        "for layer in network:\n",
        "\tprint(layer)"
      ],
      "execution_count": 14,
      "outputs": [
        {
          "output_type": "stream",
          "text": [
            "[{'weights': [0.13436424411240122, 0.8474337369372327, 0.763774618976614]}]\n",
            "[{'weights': [0.2550690257394217, 0.49543508709194095]}, {'weights': [0.4494910647887381, 0.651592972722763]}]\n"
          ],
          "name": "stdout"
        }
      ]
    },
    {
      "cell_type": "markdown",
      "metadata": {
        "id": "aRKvl-NnCUsg",
        "colab_type": "text"
      },
      "source": [
        "Calculate neural activation. "
      ]
    },
    {
      "cell_type": "code",
      "metadata": {
        "id": "yc9Z6oZYCZHp",
        "colab_type": "code",
        "colab": {}
      },
      "source": [
        "def activate(weights, inputs):\n",
        "    ''' Calculate neuron activation for an input\n",
        "    '''\n",
        "    activation = weights[-1]\n",
        "    for i in range(len(weights)-1):\n",
        "        activation += weights[i] * inputs[i]\n",
        "    return activation"
      ],
      "execution_count": 0,
      "outputs": []
    }
  ]
}