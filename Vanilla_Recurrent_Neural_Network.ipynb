{
  "nbformat": 4,
  "nbformat_minor": 0,
  "metadata": {
    "colab": {
      "name": "Vanilla Recurrent Neural Network.ipynb",
      "provenance": [],
      "include_colab_link": true
    },
    "kernelspec": {
      "name": "python3",
      "display_name": "Python 3"
    }
  },
  "cells": [
    {
      "cell_type": "markdown",
      "metadata": {
        "id": "view-in-github",
        "colab_type": "text"
      },
      "source": [
        "<a href=\"https://colab.research.google.com/github/debanga/DeepLearningNotebooks/blob/master/Vanilla_Recurrent_Neural_Network.ipynb\" target=\"_parent\"><img src=\"https://colab.research.google.com/assets/colab-badge.svg\" alt=\"Open In Colab\"/></a>"
      ]
    },
    {
      "cell_type": "markdown",
      "metadata": {
        "id": "GWBBClGxUCrE",
        "colab_type": "text"
      },
      "source": [
        "#Vanilla Recurrent Neural Network implementation"
      ]
    },
    {
      "cell_type": "markdown",
      "metadata": {
        "id": "k2SiynCuKVWu",
        "colab_type": "text"
      },
      "source": [
        "#### This notebook is based on the Vanilla RNN implementation of Andrej Karpathy at https://gist.github.com/karpathy/ "
      ]
    },
    {
      "cell_type": "markdown",
      "metadata": {
        "id": "tMzG4DcWTni9",
        "colab_type": "text"
      },
      "source": [
        "## Import packages"
      ]
    },
    {
      "cell_type": "code",
      "metadata": {
        "id": "nae3J3I2Klc1",
        "colab_type": "code",
        "colab": {}
      },
      "source": [
        "import numpy as np"
      ],
      "execution_count": 0,
      "outputs": []
    },
    {
      "cell_type": "markdown",
      "metadata": {
        "id": "Ek95dAPGTjJ2",
        "colab_type": "text"
      },
      "source": [
        "## Data input and output\n",
        "\n",
        "Let's use the fable of 7 Samurai's as training data!\n",
        "\n",
        "![alt text](https://images-na.ssl-images-amazon.com/images/I/81ftb0xNAUL._SY355_.jpg)"
      ]
    },
    {
      "cell_type": "code",
      "metadata": {
        "id": "Ko85-8ZvK4ZL",
        "colab_type": "code",
        "colab": {
          "base_uri": "https://localhost:8080/",
          "height": 34
        },
        "outputId": "4175793f-841d-4820-b1a2-77a58e982ad9"
      },
      "source": [
        "'''\n",
        "data I/O\n",
        "\n",
        "Get the text file from \"https://raw.githubusercontent.com/debanga/DeepLearningNotebooks/master/data/7oldsamr.txt\"\n",
        "'''\n",
        "data = open('7oldsamr.txt', 'r').read() # should be simple plain text file\n",
        "chars = list(set(data))\n",
        "data_size, vocab_size = len(data), len(chars)\n",
        "print('data has %d characters, %d unique.' % (data_size, vocab_size))\n",
        "char_to_ix = { ch:i for i,ch in enumerate(chars) }\n",
        "ix_to_char = { i:ch for i,ch in enumerate(chars) }"
      ],
      "execution_count": 37,
      "outputs": [
        {
          "output_type": "stream",
          "text": [
            "data has 2753 characters, 55 unique.\n"
          ],
          "name": "stdout"
        }
      ]
    },
    {
      "cell_type": "markdown",
      "metadata": {
        "id": "T9-b6TFnTfOs",
        "colab_type": "text"
      },
      "source": [
        "## Hyperparameters"
      ]
    },
    {
      "cell_type": "code",
      "metadata": {
        "id": "n_bcIezfQ5V5",
        "colab_type": "code",
        "colab": {}
      },
      "source": [
        "''' hyperparameters\n",
        "'''\n",
        "hidden_size = 100 # size of hidden layer of neurons\n",
        "seq_length = 25 # number of steps to unroll the RNN for\n",
        "learning_rate = 1e-1"
      ],
      "execution_count": 0,
      "outputs": []
    },
    {
      "cell_type": "markdown",
      "metadata": {
        "id": "JGkxqABTS-Qv",
        "colab_type": "text"
      },
      "source": [
        "## Model Parameters\n",
        "An example from http://karpathy.github.io/2015/05/21/rnn-effectiveness/ to understand the model parameters.\n",
        "![alt text](http://karpathy.github.io/assets/rnn/charseq.jpeg)"
      ]
    },
    {
      "cell_type": "code",
      "metadata": {
        "id": "fjYcw7MmSldD",
        "colab_type": "code",
        "colab": {}
      },
      "source": [
        "''' model parameters\n",
        "'''\n",
        "Wxh = np.random.randn(hidden_size, vocab_size)*0.01 # input to hidden\n",
        "Whh = np.random.randn(hidden_size, hidden_size)*0.01 # hidden to hidden\n",
        "Why = np.random.randn(vocab_size, hidden_size)*0.01 # hidden to output\n",
        "bh = np.zeros((hidden_size, 1)) # hidden bias\n",
        "by = np.zeros((vocab_size, 1)) # output bias"
      ],
      "execution_count": 0,
      "outputs": []
    }
  ]
}