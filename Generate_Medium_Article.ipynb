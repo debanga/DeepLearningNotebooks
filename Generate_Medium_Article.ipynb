{
  "nbformat": 4,
  "nbformat_minor": 0,
  "metadata": {
    "colab": {
      "name": "Generate Medium Article",
      "provenance": [],
      "authorship_tag": "ABX9TyNSTlyLj0e4i4w00g+D295L",
      "include_colab_link": true
    },
    "kernelspec": {
      "name": "python3",
      "display_name": "Python 3"
    }
  },
  "cells": [
    {
      "cell_type": "markdown",
      "metadata": {
        "id": "view-in-github",
        "colab_type": "text"
      },
      "source": [
        "<a href=\"https://colab.research.google.com/github/debanga/DeepLearningNotebooks/blob/master/Generate_Medium_Article.ipynb\" target=\"_parent\"><img src=\"https://colab.research.google.com/assets/colab-badge.svg\" alt=\"Open In Colab\"/></a>"
      ]
    },
    {
      "cell_type": "code",
      "metadata": {
        "id": "lacQAMW6N7ym",
        "colab_type": "code",
        "colab": {
          "base_uri": "https://localhost:8080/",
          "height": 570
        },
        "outputId": "d9b7b867-c214-4a87-e7ff-e4e158283c06"
      },
      "source": [
        "!pip install jupyter_to_medium\n",
        "!pip install dataframe_image"
      ],
      "execution_count": 15,
      "outputs": [
        {
          "output_type": "stream",
          "text": [
            "Requirement already satisfied: jupyter_to_medium in /usr/local/lib/python3.6/dist-packages (0.0.2)\n",
            "Collecting dataframe_image\n",
            "  Downloading https://files.pythonhosted.org/packages/b4/1a/609125de93376586924b53fab38414e526e83c6aba547ac454cdec75dbb2/dataframe_image-0.0.5-py3-none-any.whl\n",
            "Requirement already satisfied: nbconvert>=5 in /usr/local/lib/python3.6/dist-packages (from dataframe_image) (5.6.1)\n",
            "Requirement already satisfied: pandas>=0.24 in /usr/local/lib/python3.6/dist-packages (from dataframe_image) (1.0.3)\n",
            "Requirement already satisfied: pillow in /usr/local/lib/python3.6/dist-packages (from dataframe_image) (7.0.0)\n",
            "Requirement already satisfied: jinja2>=2.4 in /usr/local/lib/python3.6/dist-packages (from nbconvert>=5->dataframe_image) (2.11.2)\n",
            "Requirement already satisfied: defusedxml in /usr/local/lib/python3.6/dist-packages (from nbconvert>=5->dataframe_image) (0.6.0)\n",
            "Requirement already satisfied: nbformat>=4.4 in /usr/local/lib/python3.6/dist-packages (from nbconvert>=5->dataframe_image) (5.0.6)\n",
            "Requirement already satisfied: traitlets>=4.2 in /usr/local/lib/python3.6/dist-packages (from nbconvert>=5->dataframe_image) (4.3.3)\n",
            "Requirement already satisfied: entrypoints>=0.2.2 in /usr/local/lib/python3.6/dist-packages (from nbconvert>=5->dataframe_image) (0.3)\n",
            "Requirement already satisfied: pygments in /usr/local/lib/python3.6/dist-packages (from nbconvert>=5->dataframe_image) (2.1.3)\n",
            "Requirement already satisfied: pandocfilters>=1.4.1 in /usr/local/lib/python3.6/dist-packages (from nbconvert>=5->dataframe_image) (1.4.2)\n",
            "Requirement already satisfied: mistune<2,>=0.8.1 in /usr/local/lib/python3.6/dist-packages (from nbconvert>=5->dataframe_image) (0.8.4)\n",
            "Requirement already satisfied: jupyter-core in /usr/local/lib/python3.6/dist-packages (from nbconvert>=5->dataframe_image) (4.6.3)\n",
            "Requirement already satisfied: bleach in /usr/local/lib/python3.6/dist-packages (from nbconvert>=5->dataframe_image) (3.1.5)\n",
            "Requirement already satisfied: testpath in /usr/local/lib/python3.6/dist-packages (from nbconvert>=5->dataframe_image) (0.4.4)\n",
            "Requirement already satisfied: numpy>=1.13.3 in /usr/local/lib/python3.6/dist-packages (from pandas>=0.24->dataframe_image) (1.18.4)\n",
            "Requirement already satisfied: python-dateutil>=2.6.1 in /usr/local/lib/python3.6/dist-packages (from pandas>=0.24->dataframe_image) (2.8.1)\n",
            "Requirement already satisfied: pytz>=2017.2 in /usr/local/lib/python3.6/dist-packages (from pandas>=0.24->dataframe_image) (2018.9)\n",
            "Requirement already satisfied: MarkupSafe>=0.23 in /usr/local/lib/python3.6/dist-packages (from jinja2>=2.4->nbconvert>=5->dataframe_image) (1.1.1)\n",
            "Requirement already satisfied: ipython-genutils in /usr/local/lib/python3.6/dist-packages (from nbformat>=4.4->nbconvert>=5->dataframe_image) (0.2.0)\n",
            "Requirement already satisfied: jsonschema!=2.5.0,>=2.4 in /usr/local/lib/python3.6/dist-packages (from nbformat>=4.4->nbconvert>=5->dataframe_image) (2.6.0)\n",
            "Requirement already satisfied: decorator in /usr/local/lib/python3.6/dist-packages (from traitlets>=4.2->nbconvert>=5->dataframe_image) (4.4.2)\n",
            "Requirement already satisfied: six in /usr/local/lib/python3.6/dist-packages (from traitlets>=4.2->nbconvert>=5->dataframe_image) (1.12.0)\n",
            "Requirement already satisfied: packaging in /usr/local/lib/python3.6/dist-packages (from bleach->nbconvert>=5->dataframe_image) (20.3)\n",
            "Requirement already satisfied: webencodings in /usr/local/lib/python3.6/dist-packages (from bleach->nbconvert>=5->dataframe_image) (0.5.1)\n",
            "Requirement already satisfied: pyparsing>=2.0.2 in /usr/local/lib/python3.6/dist-packages (from packaging->bleach->nbconvert>=5->dataframe_image) (2.4.7)\n",
            "Installing collected packages: dataframe-image\n",
            "Successfully installed dataframe-image-0.0.5\n"
          ],
          "name": "stdout"
        }
      ]
    },
    {
      "cell_type": "code",
      "metadata": {
        "id": "7DjHmCTJOze-",
        "colab_type": "code",
        "colab": {
          "base_uri": "https://localhost:8080/",
          "height": 247
        },
        "outputId": "27114bad-7fc2-45e2-cc56-c414e4de3371"
      },
      "source": [
        "import jupyter_to_medium as jtm\n",
        "jtm.publish('/content/pytorch-inter-epoch-training-with-checkpoints.ipynb',\n",
        "            integration_token='2ffbe87e2b4e9d0723d01a575cfd17ca476746a75ac268d2c8493419b55820974',\n",
        "            pub_name=None,\n",
        "            dataframe_image=True,\n",
        "            title=None,\n",
        "            tags=None,\n",
        "            publish_status='draft',\n",
        "            notify_followers=False,\n",
        "            license='all-rights-reserved',\n",
        "            canonical_url=None)"
      ],
      "execution_count": 16,
      "outputs": [
        {
          "output_type": "stream",
          "text": [
            "2ffbe87e2b4e9d0723d01a575cfd17ca476746a75ac268d2c8493419b55820974\n",
            "['pytorch-inter-epoch-training-with-checkpoints_files/output_11_2.png']\n",
            "[PosixPath('pytorch-inter-epoch-training-with-checkpoints_files/output_11_2.png')]\n",
            "loading image to medium\n"
          ],
          "name": "stdout"
        },
        {
          "output_type": "execute_result",
          "data": {
            "text/plain": [
              "{'data': {'authorId': '1ba8aefb97926328716acdde1665a42a3af27c4cab7a9301f8988af1ac65cc23f',\n",
              "  'canonicalUrl': '',\n",
              "  'id': 'bac8477828d',\n",
              "  'license': 'all-rights-reserved',\n",
              "  'licenseUrl': 'https://medium.com/policy/9db0094a1e0f',\n",
              "  'publishStatus': 'draft',\n",
              "  'tags': [],\n",
              "  'title': 'pytorch-inter-epoch-training-with-checkpoints',\n",
              "  'url': 'https://medium.com/@ZenFeather/bac8477828d'}}"
            ]
          },
          "metadata": {
            "tags": []
          },
          "execution_count": 16
        }
      ]
    },
    {
      "cell_type": "code",
      "metadata": {
        "id": "JSt_smViO28D",
        "colab_type": "code",
        "colab": {
          "base_uri": "https://localhost:8080/",
          "height": 70
        },
        "outputId": "df7d1150-d7b6-4d00-90fa-1bc875c2b934"
      },
      "source": [
        "import os\n",
        "os.getcwd()\n",
        "os.listdir('/content')"
      ],
      "execution_count": 8,
      "outputs": [
        {
          "output_type": "execute_result",
          "data": {
            "text/plain": [
              "['.config',\n",
              " 'pytorch-inter-epoch-training-with-checkpoints.ipynb',\n",
              " 'sample_data']"
            ]
          },
          "metadata": {
            "tags": []
          },
          "execution_count": 8
        }
      ]
    }
  ]
}